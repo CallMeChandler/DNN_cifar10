{
 "cells": [
  {
   "cell_type": "code",
   "execution_count": 1,
   "id": "463d9c1d",
   "metadata": {},
   "outputs": [
    {
     "data": {
      "text/plain": [
       "<torch._C.Generator at 0x21fec8c78f0>"
      ]
     },
     "execution_count": 1,
     "metadata": {},
     "output_type": "execute_result"
    }
   ],
   "source": [
    "from pathlib import Path\n",
    "import numpy as np\n",
    "import torch\n",
    "from torchvision.datasets import CIFAR10\n",
    "from torchvision import transforms\n",
    "from sklearn.model_selection import train_test_split\n",
    "\n",
    "DATA_DIR = Path.cwd().parent / \"data\" / \"cifar10_torch_np\"\n",
    "DATA_DIR.mkdir(parents=True, exist_ok=True)\n",
    "\n",
    "CLASS_NAMES = ['airplane', 'automobile', 'bird', 'cat', 'deer', 'dog', 'frog', 'horse', 'ship', 'truck']\n",
    "SEED = 42\n",
    "VAL_SIZE = 0.10\n",
    "GRAYSCALE = True\n",
    "SUBSET = None\n",
    "rng = np.random.default_rng(SEED)\n",
    "torch.manual_seed(SEED)"
   ]
  },
  {
   "cell_type": "code",
   "execution_count": 8,
   "id": "13aea217",
   "metadata": {},
   "outputs": [],
   "source": [
    "def load_cifar10_numpy_fast(grayscale=True, val_size=0.10, subset=None, seed=42):\n",
    "    root = DATA_DIR\n",
    "\n",
    "    train_raw = CIFAR10(root=str(root), train=True,  download=True, transform=None)\n",
    "    test_raw  = CIFAR10(root=str(root), train=False, download=True, transform=None)\n",
    "\n",
    "    X_train = train_raw.data\n",
    "    y_train = np.array(train_raw.targets, dtype=np.int64)\n",
    "    X_test  = test_raw.data\n",
    "    y_test  = np.array(test_raw.targets, dtype=np.int64)\n",
    "\n",
    "    if subset is not None and subset < X_train.shape[0]:\n",
    "        rs = np.random.RandomState(seed)\n",
    "        idx = rs.permutation(X_train.shape[0])[:subset]\n",
    "        X_train = X_train[idx]\n",
    "        y_train = y_train[idx]\n",
    "\n",
    "    if grayscale:\n",
    "        # Grayscale, scale & flatten\n",
    "        X_train = X_train.mean(axis=3).astype(np.float32) / 255.0\n",
    "        X_test  = X_test.mean(axis=3).astype(np.float32) / 255.0\n",
    "        X_train = X_train.reshape(len(X_train), -1)\n",
    "        X_test  = X_test.reshape(len(X_test), -1)\n",
    "    else:\n",
    "        # RGB, scale & flatten\n",
    "        X_train = (X_train.astype(np.float32) / 255.0).reshape(len(X_train), -1)\n",
    "        X_test  = (X_test.astype(np.float32)  / 255.0).reshape(len(X_test),  -1)\n",
    "\n",
    "    # stratified validation split\n",
    "    Xtr, Xval, ytr, yval = train_test_split(\n",
    "        X_train, y_train, test_size=val_size, random_state=seed, stratify=y_train\n",
    "    )\n",
    "\n",
    "    return (Xtr.astype(np.float32), ytr.astype(np.int64),\n",
    "            Xval.astype(np.float32), yval.astype(np.int64),\n",
    "            X_test.astype(np.float32), y_test.astype(np.int64))\n"
   ]
  },
  {
   "cell_type": "code",
   "execution_count": 7,
   "id": "f899c5b2",
   "metadata": {},
   "outputs": [
    {
     "name": "stderr",
     "output_type": "stream",
     "text": [
      "100.0%\n"
     ]
    },
    {
     "data": {
      "text/plain": [
       "((45000, 1024),\n",
       " (5000, 1024),\n",
       " (10000, 1024),\n",
       " (np.float32(0.0), np.float32(1.0)),\n",
       " array([4500, 4500, 4500, 4500, 4500, 4500, 4500, 4500, 4500, 4500]))"
      ]
     },
     "execution_count": 7,
     "metadata": {},
     "output_type": "execute_result"
    }
   ],
   "source": [
    "Xtr, ytr, Xval, yval, Xte, yte = load_cifar10_numpy_fast(GRAYSCALE, VAL_SIZE, SUBSET, SEED)\n",
    "Xtr.shape, Xval.shape, Xte.shape, (Xtr.min(), Xtr.max()), np.bincount(ytr)[:10]"
   ]
  },
  {
   "cell_type": "code",
   "execution_count": 9,
   "id": "99d5324d",
   "metadata": {},
   "outputs": [
    {
     "data": {
      "image/png": "[encoded data removed]",
      "text/plain": [
       "<Figure size 1600x200 with 8 Axes>"
      ]
     },
     "metadata": {},
     "output_type": "display_data"
    }
   ],
   "source": [
    "import matplotlib.pyplot as plt\n",
    "\n",
    "def show_samples(X, y, n=8, grayscale=True):\n",
    "    D = X.shape[1]\n",
    "    C = 1 if grayscale else 3\n",
    "    H = W = 32\n",
    "    fig, axes = plt.subplots(1, n, figsize=(2*n, 2))\n",
    "    for i, ax in enumerate(axes):\n",
    "        img = X[i].reshape(C, H, W)\n",
    "        if grayscale:\n",
    "            ax.imshow(img[0], cmap='gray', vmin=0, vmax=1)\n",
    "        else:\n",
    "            ax.imshow(img.transpose(1, 2, 0))\n",
    "        ax.set_title(CLASS_NAMES[y[i]])\n",
    "        ax.axis('off')\n",
    "    plt.show()\n",
    "\n",
    "show_samples(Xtr, ytr, n=8, grayscale=GRAYSCALE)"
   ]
  },
  {
   "cell_type": "code",
   "execution_count": 10,
   "id": "5feb5400",
   "metadata": {},
   "outputs": [
    {
     "data": {
      "text/plain": [
       "(WindowsPath('c:/Users/BIT/Complete_ML/DNN_CIFAR10/data/cifar10_torch_np/cifar10_gray_val10.npz'),\n",
       " 99.383394)"
      ]
     },
     "execution_count": 10,
     "metadata": {},
     "output_type": "execute_result"
    }
   ],
   "source": [
    "suffix = \"gray\" if GRAYSCALE else \"rgb\"\n",
    "out = DATA_DIR / f\"cifar10_{suffix}_val{int(VAL_SIZE*100)}.npz\"\n",
    "np.savez_compressed(out, Xtr=Xtr, ytr=ytr, Xval=Xval, yval=yval, Xte=Xte, yte=yte)\n",
    "out, out.stat().st_size/1e6"
   ]
  }
 ],
 "metadata": {
  "kernelspec": {
   "display_name": ".venv",
   "language": "python",
   "name": "python3"
  },
  "language_info": {
   "codemirror_mode": {
    "name": "ipython",
    "version": 3
   },
   "file_extension": ".py",
   "mimetype": "text/x-python",
   "name": "python",
   "nbconvert_exporter": "python",
   "pygments_lexer": "ipython3",
   "version": "3.12.7"
  }
 },
 "nbformat": 4,
 "nbformat_minor": 5
}
